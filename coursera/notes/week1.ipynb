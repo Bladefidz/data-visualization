{
 "cells": [
  {
   "cell_type": "markdown",
   "metadata": {},
   "source": [
    "## Overview of Visualization\n",
    "\n",
    "1. *Mathematical Visualization*: Based on mathematical equations. This visualization has been interested by mathematician since 1900, but they did not really understand about the dynamic of equation. We used computer to show or simulation the dynamic of mathematic equation. For example, we can plot a complex equation in very huge dimensions, then evaluate it into the smaller or higher dense to understand what visualization tell us about the dynamic.\n",
    "    **Missing data can be found easily**.\n",
    "2. *Scientific Visualization*: Based on scientific or simulation data. This visualization could be very complex in the variefty of dimension, such us size of data, computation, etc.\n",
    "    **Missing data should be handle**.\n",
    "3. *Information Visualization*: Transform abstract data into more concreate visualization such as geometrical visualization, so we can easily interpreate the important information from the data.\n",
    "4. *Domain Specific Visualization*: Simply targetting specific purpose, such as bussiness, education, medical, etc."
   ]
  },
  {
   "cell_type": "markdown",
   "metadata": {},
   "source": [
    "## Modes of Visualization\n",
    "\n",
    "1. *Interactive Visualization*: Used to do discovery. Need user input. Prototype representation.\n",
    "2. *Presentation Visualization*:Used to do communication. Does not support user input. Fixed representation.\n",
    "3. *Story Telling Visualization*: Mix of interactive and presentation visualization. Ex: Presentation via interactive webpage."
   ]
  },
  {
   "cell_type": "markdown",
   "metadata": {},
   "source": [
    "## 2-D Graphics\n",
    "\n",
    "Recall from the basic of computer graphics: 2-D in computer graphipcs is all about **Rasterization**. The graphics representation that commonly used is **Vector Graphic**. Recall from basic geometry, we can do scaling to visualize our data into a smooth line. For example in, range of [1, 1], we can plot a 10 data points where each data is fraction of 10 (0, 1/10, 2/10, ..., 10/10). Although the vector graphics is widely used in practical visualization, when its come to computer we need to transform it onto raster graphics. **Raster graphic** is graphical representation by set of pixel in computer screen. Scaling in vector graphics might equalialence to pixel aliasing."
   ]
  },
  {
   "cell_type": "markdown",
   "metadata": {},
   "source": [
    "## 3-D Graphics\n",
    "\n",
    "3-D graphics is essential in computer graphics processing. To represent a 3-D graphics, a computer need to do **3-D Graphics Pipeline** which is consisted by three ordered processing: Vertex processing, rasterization, and pixel processing. Before vertex processing, we already have an object contructed by triangles. In the vertex processing, we transform each triangle into a canvas. In the rasterization, we transform each outline into pixel. In pixel processing, we implement such algorithm to guess color for each pixel inside outline."
   ]
  },
  {
   "cell_type": "markdown",
   "metadata": {},
   "source": [
    "## Photorealism\n",
    "\n",
    "This technique implement how human eyes make a perception about the object. Main objective of photorealism is make 3-D graphics perception from 2-D graphics. Some useful technique are: Occlusion, shadowing, illumination, perspective, and stereo. Occlusion is the strongest depth cue. Shadowing is occlusion of a light source. Illumination reveal surface orientation. Perspective can reveal different scales of visualization in addition to aiding depth perception. Stereo is useful when other cues are unavailable."
   ]
  },
  {
   "cell_type": "markdown",
   "metadata": {},
   "source": [
    "## Non-Photorealism\n",
    "\n",
    "This technique contrast with photorealism. While photorealism focus on physic of light, non-photorealism focus on physiology of light. The main goal of non-photorealism is to reveal hidden information or find detail information from an object. For example: A realistic 3d object of hearth might be hide some details because some parts covered by blood, shadow, or placed in another direction. To reveal hidden information from the graphic of heart, an artist transform dark color into more lighter color, controling color variation, reveal hidden part and make outline stronger."
   ]
  },
  {
   "cell_type": "markdown",
   "metadata": {},
   "source": [
    "## The Human\n",
    "\n",
    "To simplify how we should interpret how human perception work, we can use simple model that correlate mechanical processing model such as cellphone model into biological model as human being.\n",
    "\n",
    "The image below is simplification model of a cellphone. The brief explanation about this image is all input will be processed in CPU. There are two input type: memory and external input. Cache used to make memory processing from RAM became faster. Furthermore, we need such time delay to randomly accessing memory and another time to caching it. External memory included audio and video that both of them need such buffer time to packaging information into media processor. A CPU will process any input from both source to deliver data into output processor.\n",
    "\n",
    "![Phone Processor](images/phone-processor.png)\n",
    "\n",
    "We can used our cellphone model to make human model perception. CPU became a cognitive processor, cache is working memory, RAM is long term memory, media processor as perceptual processor, and output processor as motor processor. Each of this elements has time delay to deliver data or information.\n",
    "\n",
    "![Human Processor](images/human-processor.png)\n",
    "\n",
    "Recall from scheduling problem and its algorithm, we can formalize overal time needed to do fully working human in human processor model. The formal equation to calculate overall time processing called as **Fitt's Law** and will be looked as below:\n",
    "\n",
    "$$T \\approx a + b * log_2\\,\\Big(1 + {D\\over S}\\Big)$$\n",
    "\n",
    "Recall from basic statistical analysis, *a* is preprocessing time (time needed for use to preparing anything needed) and *b* is ideal processing time. An implimentation of fitt's law in human processor model illustrated in image below:\n",
    "\n",
    "![Fitt Law](images/fitt-law.png)"
   ]
  },
  {
   "cell_type": "markdown",
   "metadata": {},
   "source": [
    "## Memory\n",
    "\n",
    "\n",
    "Recall from basic of neurology, we can illustrated how information from external source recieved and then stored in the long term memory.\n",
    "\n",
    "![Memory Model](images/memory-model.png)"
   ]
  },
  {
   "cell_type": "markdown",
   "metadata": {},
   "source": [
    "### Sensory Memory\n",
    "Sensory memory related to any input that can be used in perceptual processing, they are:\n",
    "* Iconic memory: Represent visual input which persistance in about 0.5 seconds \n",
    "* Echoic memory: Represent audio input which persistance in about 1.5 seconds\n",
    "* Haptic memory: Represent physical input such as touch.\n",
    "* Arousal: Represent priority of data representation, or in another word represent level of interest or need for each specific input."
   ]
  },
  {
   "cell_type": "markdown",
   "metadata": {},
   "source": [
    "### Working Memory\n",
    "\n",
    "Human's working memory can be represented as DRAM in computer model. Recall from study on neuorology, our working memory space limited to only **about 2 - 7 chunks**, access time approximately in **70ms**, refresh time in about **200ms**, and recently input always is the beast (**Receny effect**)."
   ]
  },
  {
   "cell_type": "markdown",
   "metadata": {},
   "source": [
    "### Long Term Memory\n",
    "\n",
    "There are two types of long term memories:\n",
    "\n",
    "* Episodic: Represent events that already happen or happened long time ago. This type of memory organized temporally.\n",
    "* Semantics: Represents facts that have been happened and need ceratin preprocessing to extract reasonable information based on logical or empirical reasioning. This type of memory organized associatively.\n",
    "\n",
    "One of long term memory above can be represented as:\n",
    "\n",
    "* Semantic nets which formed by graph structures.\n",
    "* Frame which represent storage such as database and entries.\n",
    "* Scripts."
   ]
  },
  {
   "cell_type": "markdown",
   "metadata": {},
   "source": [
    "### How We Remember?\n",
    "\n",
    "That is about **time**: longer we spent time on specific thing, better we doing with it. It's about distribution of **practice effect**: we can good at thing by focus on wider or broad concept and practice what we already learn, but do not cram!. It is about the **meaning**: absord abstract concept will always harder than concreate concept. For example, explain the meaning of word singularity is harder than just speak a word black hole while imagining an illustration of how black hole working in the nature. All of that points can be simplify into three word: **structure, familiarity and concreteness**."
   ]
  },
  {
   "cell_type": "markdown",
   "metadata": {},
   "source": [
    "### How We Forget?\n",
    "\n",
    "We can easily forget in logarithmically time of decay (recall from fitt's law). **Jost's law**, if two strong equally memories at a given time, then the older one is more durable. **Proactive inhibition** avoid new things to be learned by someone who not relaxed in the way it's teached. **Retroactive interference** is the mind blowing effect when we try to learn so many things in short time. **Emotion** will be caused somebody to stay the way they relaxed rather than try higher level way which is more challenging."
   ]
  },
  {
   "cell_type": "markdown",
   "metadata": {},
   "source": [
    "### Reasoning\n",
    "\n",
    "Theare three type or satge of reasoning: **Deduction**, **Induction**, and **Abduction**. Deduction aimed to draw conclution based ob logic or empirical knowledge. In deduction process, we try to find the truth. Induction aimed to do generalization about what sample might tell us about the population. In induction process, we try to do extrapolation (prediction within continues axis) and interpolation (evaluation within descrete range) to infer information. In the induction reasoning, we may caution that correlation is not causation. Adbuction aimed to test our conclusion. In abduction process, we try to fit our model into real world simulation, so our model will be perfect to tell us the nature of fact. In the abduction reasoning, we may caution that our assumption and believe may be effected to our conclution, so that's why we need to reduce assumption as much as possible."
   ]
  },
  {
   "cell_type": "markdown",
   "metadata": {},
   "source": [
    "### The Human Retina\n",
    "\n",
    "Generally, our Cornea lens trying to focusing light into Retina. There are two type of photoreceptors: rods and cones. Rods will processing illmuniation, so we can differ which is darker or lighter. Cones will processing color onto three separated codes: Red, Green, and Blue. **Our eye cosisted more rods than cones: 80 million againts 5 million**. That's why our eyes more sensitive with chromatic or gray dispersion color, rather than full color. Eyes sensistiviy to color is more interesting subject: Green and red easier to be focused than blue. The ratio of color perception is **L = 31%R + 59%G + 10%B**. This ratio tells us that we should avoid to use pure or dominant blue color. The fact is there are 10% of males are color blind.\n",
    "\n",
    "![Color Perception](images/color-perception.png)"
   ]
  },
  {
   "cell_type": "markdown",
   "metadata": {},
   "source": [
    "### Perceiving Two Dimensions\n",
    "\n",
    "This is important subject since our vision depend on how our brain perceiving about the information given by perceptual processor. For example, in the context of size, our brain might perceiveing two identical ball have different size if one surronded smaller ball while another ball surronded by bigger ball.\n",
    "\n",
    "![size context](images/size_context.png)<br>\n",
    "\n",
    "In the context of color, two identical color may seems one darker than another depends on any surrounding colors.\n",
    "\n",
    "![color context](images/color_context.png)<br>\n",
    "\n",
    "So, that is important to be consistence to choose specific context in data visualization."
   ]
  },
  {
   "cell_type": "markdown",
   "metadata": {},
   "source": [
    "### Perceiving Perspective\n",
    "\n",
    "Recall from section before, we can used perspective to represent 3-D visualization on 2-D dimension object. We can used **Foreshortening** to represent various depth of 3-D cube. We can used **Linear Perspective** to represent object that far away became smaller. **Size Constancy** give perception that smaller object look farther away.\n",
    "\n",
    "Our perception as explained before will lead us to assume that smaller object should be farther away. So in data visualization, we need to avoid 3-D representation as we can, and only used it if necessary."
   ]
  },
  {
   "cell_type": "code",
   "execution_count": null,
   "metadata": {},
   "outputs": [],
   "source": []
  }
 ],
 "metadata": {
  "kernelspec": {
   "display_name": "Python 3",
   "language": "python",
   "name": "python3"
  },
  "language_info": {
   "codemirror_mode": {
    "name": "ipython",
    "version": 3
   },
   "file_extension": ".py",
   "mimetype": "text/x-python",
   "name": "python",
   "nbconvert_exporter": "python",
   "pygments_lexer": "ipython3",
   "version": "3.6.4"
  }
 },
 "nbformat": 4,
 "nbformat_minor": 2
}
