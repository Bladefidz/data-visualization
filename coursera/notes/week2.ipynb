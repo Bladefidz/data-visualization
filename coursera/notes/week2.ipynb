{
 "cells": [
  {
   "cell_type": "markdown",
   "metadata": {},
   "source": [
    "## Additional Readings and Resources\n",
    "\n",
    "Design:\n",
    "\n",
    "* The Visual Display of Quantitative Information by Edward Tufte\n",
    "* Envisioning Information by Edward Tufte\n",
    "* Visual Explanations: Images and Quantities, Evidence and Narrative by Edward Tufte\n",
    "\n",
    "\n",
    "Color:\n",
    "\n",
    "* Information Visualization: Perception for Design by Colin Ware"
   ]
  },
  {
   "cell_type": "markdown",
   "metadata": {},
   "source": [
    "## Key phrases and Concepts\n",
    "\n",
    "* Data variables: nominal, ordinal, and quantitative; discrete v. continuous; dependent v. independent\n",
    "* The perceptual accuracy of how different chart elements represent data variables\n",
    "* How glyphs represent multiple dimensions of individual data items, how parallel coordinates plot data over many dimensions, and how streamgraphs improve on stacked bar charts\n",
    "* Chartjunk, the data-ink ratio, and other design rules\n",
    "* Hue, saturation, value, and other ways of thinking about color"
   ]
  },
  {
   "cell_type": "markdown",
   "metadata": {},
   "source": [
    "## Introduction\n",
    "\n",
    "We can use [Tableau](https://www.tableau.com/) to visualize dan analyze data. Tableau has easy navigation, for example, we can easily found a \"Show More\" button to choose proper graph to visualize correspondent data."
   ]
  },
  {
   "cell_type": "markdown",
   "metadata": {},
   "source": [
    "## Data Visualization Framework\n",
    "\n",
    "There is a framework to help us and simplify our understanding of how data visualization work. The **data visualization framework** can be seen in an image below:\n",
    "\n",
    "![](images/data-visualization-framework.png)\n",
    "\n",
    "**Data Layer** contains two entities that are data sources and data collection. Before collecting all data, we need to do preprocessing that ensuring each data imported in the proper format. After data being imported, we need to ensure that all data stored in the best possible structure. In the case of a database, we can maintenance relation between data as database indexes, so will increase retrieval time. After data storing problem being solved, we can do such optimization to enhance our storage. By doing data analysis, we can decide the quality of data we have collected. The task of data analysis included: inspecting, cleansing, and transforming. The goal of data analysis is reduced noise in our data collection, by removing or transforming. Another crucial optimization is data aggregation which has a significant impact on retrieval performance of our data collection. The task of data aggregation included: classification, clustering, etc.\n",
    "\n",
    "**Mapping Layer** is a complicated layer which has robust implementation of linear algebra and computer graphics algorithms. In this layer, we working on how to associating appropriate geometry with data channels. For example, in the case to represent clusters of data, we need to associate size of cluster into area of circle.\n",
    "\n",
    "**Graphics layer** has a robust implementation of computer graphics algorithms and user interaction. The main objective of this layer is to produce geometry calculation from mapping layer into a displayable image on the computer screen. In the case of interactive visualization, we need to ensure that any given input processed correctly to produce expected effect on graphical representation of our data."
   ]
  },
  {
   "cell_type": "markdown",
   "metadata": {},
   "source": [
    "## Data Types\n",
    "\n",
    "There are four types of discrete data:\n",
    "\n",
    "1. Ordinal is type of ordered data defined by range. For example: Small and large.\n",
    "2. Quantitative is type of ordered data defined by step. For example: 1, 2, 3, 4, ...\n",
    "3. Nominal is type of unordered data defined by label. For example: Shapes (circle / rectangle) and gender (male / female).\n",
    "4. Category is type of unordered data defined by group. For example: Social ages (young / old) and nationality.\n",
    "\n",
    "There are two types of continous data:\n",
    "\n",
    "1. Fields is type of ordered data defined by standarized scale. For example: Temperature data may defined by Celcius or Kelvin and altitude data may defined by minute or degree. \n",
    "2. Cyclic values is type of unordered data defined by perception. For example: Direction data may indicate by north, south, east, and west or clock.\n",
    "\n",
    "An image below describes briefly each type of data with a good example:\n",
    "\n",
    "![data_type](images/data-type.png \"Data types\")"
   ]
  },
  {
   "cell_type": "markdown",
   "metadata": {},
   "source": [
    "\n",
    "## Data as Variable\n",
    "\n",
    "There are two type of data as variable:\n",
    "\n",
    "* Independent variable is variable which desribed by itself and not changed when another value changed.\n",
    "* Dependent variable is variable which described by another variable. For example, y as dependent variable and x as independent variable, then value of y is defined by change of x values.\n",
    "\n",
    "An image below describes briefly how data looked in three points of views: science, database, and data warehouse.\n",
    "\n",
    "![data_variables](images/data-variable.png \"Data variables\")"
   ]
  },
  {
   "cell_type": "markdown",
   "metadata": {},
   "source": [
    "## Mapping\n",
    "\n",
    "As explained in the mapping layer, the mapping process mainly focused on produce proper geometry primitive to the corresponding data channel. It is very important to know which best geometry to represent correspondent data. Failure in deciding best-suited geometry lead to bad perception that will influence the quality of interpretation and conclusion.\n",
    "\n",
    "There are three group of geometry primitives classified by its dimensions:\n",
    "1. 1 dimension\n",
    "    * Position\n",
    "    * Length\n",
    "    ![position_length](images/position-length.png \"Position and length\")\n",
    "    * Angle/Slope\n",
    "    ![angle_slope](images/angle.png \"Angle or slope\")\n",
    "<br><br>\n",
    "2. 2 dimension\n",
    "    * Area\n",
    "    ![area](area.png \"Area\")\n",
    "    * Texture\n",
    "    * Connection\n",
    "    * Containtment\n",
    "    ![texture-connection-containtment](images/texture-connection-containtment.png \"Texture, Connection and Containtment\")\n",
    "    * Shape\n",
    "<br><br>\n",
    "3. 3 dimension\n",
    "    * Volume\n",
    "    * Color/Density\n",
    "    ![volume-density](images/volume-density.png \"Volume and density\")\n",
    "    * Saturation\n",
    "    * Hue\n",
    "\n",
    "Below are three list of suited geometry primitives for three commonly used data types (quantitative, ordinal, and nominal) ordered by **perceptual accuary**.\n",
    "\n",
    "| quantitative | ordinal      | nominal      |\n",
    "| ------------ | ------------ | ------------ |\n",
    "| position     | position     | position     |\n",
    "| length       | density      | hue          |\n",
    "| angle        | saturation   | texture      |\n",
    "| slope        | hue          | connection   |\n",
    "| area         | texture      | containtment |\n",
    "| volume       | connection   | density      |\n",
    "| density      | containtment | saturation   |\n",
    "| saturation   | length       | shape        |\n",
    "| hue          | angle        | length       |\n",
    "|              | slope        | angle        |\n",
    "|              | area         | slope        |\n",
    "|              | volume       | area         |\n",
    "|              |              | volume       |"
   ]
  },
  {
   "cell_type": "markdown",
   "metadata": {},
   "source": [
    "## Charts\n",
    "\n",
    "Data visualization often consist very simple charts, but the success of data visualization can often depend on how we map our data to the elements of those charts. Here we discuss some of the simple charts and describe when we use each of them.\n",
    "\n",
    "1. Bar chart\n",
    "    ![bar](images/bar.png \"Bar chart\")\n",
    "    <br><br>\n",
    "2. Line chart\n",
    "    ![line](images/line.png \"Line chart\")\n",
    "    <br><br>\n",
    "3. Scatterplot\n",
    "    ![scatter](images/scatter.png \"Scatter plot\")    \n",
    "    <br><br>\n",
    "4. Gantt chart\n",
    "    ![gantt](images/gantt.png \"Gantt chart\")    \n",
    "    <br><br>\n",
    "5. Table\n",
    "    ![table](images/table.png \"Table\")\n",
    "\n",
    "\n",
    "We can classify each type of chart by its characteristics:\n",
    "\n",
    "![when-use-charts](images/when-use-charts.png \"When use charts\")"
   ]
  },
  {
   "cell_type": "markdown",
   "metadata": {},
   "source": [
    "## Glyphs\n",
    "\n",
    "Glyphs is any indicators that may encoded as shapes and colors to represent each kind of data point. For example, to represent a tornado presentation, we may used length and angle to indicate wind speed and direction. We may also used hue and shape to indicate density and coverage such as wind convergence or disvergence is such area. An image below illustrated use of glyphs in various charts:\n",
    "\n",
    "![glyphs](images/glyphs-in-charts.png \"Glyphs in Charts\")\n",
    "\n",
    "Furthermore, we can use glyphs to show data attributes in the charts or other visualization. A very common practical example of using glyphs is visualizing standart deviation and variances in sample data as shown in image below:\n",
    "\n",
    "![standart deviation](images/glyphs-standart-deviation.png \"Glyphs of standart deviation\")\n",
    "\n",
    "Glyphs can be used in presentation visualization. Heatmap is an example presentation which used colorized glyphs on the map. Different group or individual might be not comfort with the Heatmap representation and demand for higher accuracy. We can used colorized glyphs as boxes with various hues in the table visualization. The y and x axes on the table chart discribe data variables and the glyphs help us to show the differences between data point.\n",
    "\n",
    "![Heatmap](images/heatmap.png \"Heatmap with colorized glyphs\")\n",
    "\n",
    "In some case, we might want to transform our visualization into more compact form. We may lost some details and accuary due transformation into compact form. For example, we may unable to plot detailed graph in each class of data due limited space. In that case, we doing a trade off between accuary and classification. An image below show that we can use glyphs to show differences of life ratio between continent with few detail about value of life ratio in each class.\n",
    "\n",
    "![Life Ratio](images/life-ratio.png \"Life ratio\")\n",
    "\n",
    "Glyphs can also represented as features with complex geometry. An image below is an example of glyphs that represent facial features of lawyers that tells us some lawyer with bigger face may indicate that some lawyer have experienced im more cases:\n",
    "\n",
    "![Chernoff Faces](images/chernoff-faces.png \"Chernoff faces\")"
   ]
  },
  {
   "cell_type": "markdown",
   "metadata": {},
   "source": [
    "## Parallel Coordinates\n",
    "\n",
    "Parallel coordinates is a visualization technique to visualize high-dimensional data. This visualization will be very helpful since most of technology limited in represent high dimensional space as projection in two dimensional space. The main objective of this technique is to reveal certain data features, such as **collinearity** in high-dimensionality data. The main reason why we should used this technique is this technique can reduce visualization complexity due high-dimensionality of data. Below step-by-step how to construct parallel coordinates of n-dimensions:\n",
    "\n",
    "1. Create two parallel lines of first two dimensions, for example x and y.\n",
    "2. Place each data into each parallel line based on its corresponding values. For example, points A(3, 2) and B(4, 3) should be placed at y(2, 3) and x(3, 4).\n",
    "3. Draw a lines between two parallel lines corresponding to each data points. For example, y(2, 3) and x(3, 4) should became two lines A(3 to 2) and B(4 to 3).\n",
    "4. Remove every glyph drawn in each parallel line, so there is just lines between parallel lines.\n",
    "5. Create one parallel line for next dimension, repeat step 2 until each dimension became a parallel line.\n",
    "\n",
    "The most interesting of parallel coordinate is we can easily detect the collinearity. As we can see: orange, yellow and green and dark green are colliniar in x-y plane. Below an example of parallel coordinates of four dimensional data:\n",
    "\n",
    "![Parallel coordinate](images/parallel-coordinate.png \"Parallel coordinate\")"
   ]
  },
  {
   "cell_type": "markdown",
   "metadata": {},
   "source": [
    "## Stacked Graphs\n",
    "\n",
    "Stacked graphs used when we want to represent accumulated data (multivariate in same axes). Below type of charts belong to stacked graph:\n",
    "\n",
    "* Stacked bar chart\n",
    "* Relative stacked bar chart\n",
    "* Pie chart\n",
    "* Diverging stacked bar chart\n",
    "* Stacked line graph\n",
    "* Stacked graph layout\n",
    "\n",
    "In some cases, we need to carefully using stacked bar chart. We already knew that position more accurate than length in representing quantitative data. Since stacked bar chart utilize position and length, we need to prioritize position representation over length. An image below illustrate how order of position is important.\n",
    "\n",
    "![Stacking order](images/stacked-bar-chart1.png \"Stacking order\")\n",
    "\n",
    "Stacked bar chart might be not effective to represent huge accumulated data. For example, in visualizing multiple stock prices within long time interval, the stacked graph might be not effective to visualize price changes. To satisfy that condition, we need to transform stacked bar chart into stacked graph layout.\n",
    "\n",
    "![Stacked graph layout](images/stacked-graph-layout.png \"Stacked graph layout\")\n",
    "\n",
    "In order to inspect area or distribution or testing the confidence interval, we may tranform stacked graph into Themeriver layout\n",
    "\n",
    "![Themeriver Layout](images/themeriver-layout.png \"Themeriver Layout\")\n",
    "\n",
    "In order to do smoothing, if it possible to added some weight, then we may transfrom themeriver layout into streamgraph layout\n",
    "\n",
    "![Streamgraph layout](images/streamgraph-layout.png \"Streamgraph layout\")\n",
    "\n",
    "Then, in the case to prioritize position, we may do ordering\n",
    "\n",
    "![Streamgraph ordering](images/streamgraph-ordering.png \"Streamgraph ordering\")"
   ]
  },
  {
   "cell_type": "markdown",
   "metadata": {},
   "source": [
    "## Tufte's Design Rules and Using Color\n",
    "\n",
    "Tufte's Design Rule is one design criteria invented by [Edward Tufte](https://www.edwardtufte.com/tufte/) which encourage us to be minimalism in order to visualizing data."
   ]
  },
  {
   "cell_type": "markdown",
   "metadata": {},
   "source": [
    "### Tufte's Design Rules\n",
    "\n",
    "There are some important design rule described by Tufte:\n",
    "\n",
    "1. Let's data speak: In order to provide reliable data, we must be represent the detail of data while guide the audience how to interprete data. For example: If there are some missing data, then show them with less distraction as possible and making the visualization to make audience rely on reasoning to guess how missing data should be.\n",
    "2. Try to represent picture as information rather than text: Picture is great way to represent data because it has volume, area or length to indicate size, color to indicate differentiation and more. By using color, we can avoid miss-interpretaion.\n",
    "3. Give annotation: By giving annotation in the data visualization, we can inform audience about the detail and supplement information.\n",
    "4. Chart junk: 2D representation may be boring, but 3D representation may lead miss-perception.\n",
    "5. The Data-Ink Ratio: When it come to print in the paper, it is good idea to follow Tufte's minimalism which try to reduce color as much as possible.\n",
    "6. Micro/macro: When it came into detail, we prefer to see micro scales. But when it came it the overview, we prefer to see macro scales.\n",
    "7. Information layer: We need to inform audience about any information that can be exploited from visualization. For example: We may need to create different appearance as different elements such as color and shapes.\n",
    "8. Multiple: We need to stay consistent in order to represent some data in different cases. For example: We need to stay with exactly same chart and glyphs type when represent same measurement method on two different machince performance.\n",
    "9. Color: Beware with color combination in visualization because wrong color combination may lead miss-interpretation and miss-perception.\n",
    "10. Narrative: A good quality visualization is one that can tells audience a story."
   ]
  },
  {
   "cell_type": "markdown",
   "metadata": {},
   "source": [
    "### Using Color\n",
    "\n",
    "*Hue* is defined by angle of color wheel, for example: \\\\(0^0\\\\) is red, \\\\(60^0\\\\) is yellow, \\\\(120^0\\\\) is green, \\\\(180^0\\\\) is cyan, \\\\(240^0\\\\) is blue, and \\\\(300^0\\\\) is magenta. *Saturation* is defined by how far a color from gray. *Value* is defined by how far a color from black.\n",
    "\n",
    "Some researches reveal that human can only differentiate between only five to ten hues (Healy, 1996) and there are only twelve colors (6+6) recommended by Ward's \"Information Visualization\".\n",
    "\n",
    "![12 colors](images/12-colors.png)<br><br>\n",
    "\n",
    "In most cases, saturation means giving more details on the object. So try to add saturated colors for points, strokes, and symbols and add desaturated colors for bigger or fills larger areas, for example: desaturated with white to increase luminance. In specific case, such as plotting bar chart, desaturated color and fills may be better than saturated colors and fiils.\n",
    "\n",
    "*Contrast* means differences while in the context of color, it's deals with hue and optionally for brightness."
   ]
  },
  {
   "cell_type": "code",
   "execution_count": null,
   "metadata": {},
   "outputs": [],
   "source": []
  }
 ],
 "metadata": {
  "kernelspec": {
   "display_name": "Python 3",
   "language": "python",
   "name": "python3"
  },
  "language_info": {
   "codemirror_mode": {
    "name": "ipython",
    "version": 3
   },
   "file_extension": ".py",
   "mimetype": "text/x-python",
   "name": "python",
   "nbconvert_exporter": "python",
   "pygments_lexer": "ipython3",
   "version": "3.6.4"
  }
 },
 "nbformat": 4,
 "nbformat_minor": 2
}
