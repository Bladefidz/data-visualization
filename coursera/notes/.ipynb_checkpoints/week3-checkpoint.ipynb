{
 "cells": [
  {
   "cell_type": "markdown",
   "metadata": {},
   "source": [
    "## Graph, Graph Visualization and Tree Map\n",
    "\n",
    "Graph is one of popular data structure in comuter science and has been developed very well since 1735 by Leonard Euler. One of historical problem that can be solved by Graph representation is [Seven Bridge of Königsberg](https://en.wikipedia.org/wiki/Seven_Bridges_of_K%C3%B6nigsberg). By implementing graph theory, we can represent bridges as set of nodes connecting lands."
   ]
  },
  {
   "cell_type": "markdown",
   "metadata": {},
   "source": [
    "### Graph and Networks\n",
    "\n",
    "Basically, a graph consisted by:\n",
    "\n",
    "* Node: Represent an entity or a group. A node can be exist independtly.\n",
    "* Edge: Represent connection between nodes. An edge may be exist in one dimensional space (tapology) or multidimensiona space (vector).\n",
    "\n",
    "![graph](images/graph.png)"
   ]
  },
  {
   "cell_type": "markdown",
   "metadata": {},
   "source": [
    "Graph theory has been extensively implemented in many fields, such as bioinformatics, sociology, computer graphcs, marketting, bussiness analytics, etc. A clique is one type of graph which used in sociology and marketting to define the nature of social connection. A clique is type of graph or sub-graph such that every nodes directly connected to each other. Another popular type of graph is Planar Graph which used in computer graphics to visualize texture n 3D graphics.\n",
    "\n",
    "In the origin, discrete mathematic has been defined important feature of graph, there are:"
   ]
  },
  {
   "cell_type": "markdown",
   "metadata": {},
   "source": [
    "##### Directed and un-directed graph\n",
    "Directed graph is a graph which each nodes connected by arrowed edge. This type of graph only allowed traversal in the direction of arrow.\n",
    "\n",
    "Undirected graph is a graph which each nodes connected by un-arrowed edge. This type of graph allowed traversal to move back to previous node within same edge.\n",
    "\n",
    "![uddg](images/directed-undirected-graph.gif)"
   ]
  },
  {
   "cell_type": "markdown",
   "metadata": {},
   "source": [
    "##### Cyclic and acyclic graph\n",
    "\n",
    "Cyclic graph is a graph or sub-graph which allowed traversal to be back into same node after visited some of its neighbors.\n",
    "\n",
    "Acyclic graph is a graph or sub-graph which disallowed traversing back to same node after visited.\n",
    "\n",
    "![cag](images/cyclic-acyclic-graphs.jpg)"
   ]
  },
  {
   "cell_type": "markdown",
   "metadata": {},
   "source": [
    "##### Tree\n",
    "Tree is special type of graph which extensively used in computer science to solve sorting and searching problem. This type of graph has been extensively studied and very weel understood. Some great algorithms invented by implementing tree structure, such as binary tree and red-black binary search tree.\n",
    "\n",
    "In the case of searching algorithm, we may interested to find minimum nodes to be visited too reach distination. Such problem known as minimum spanning tree which try to do edge removal in order to create best route. \n",
    "\n",
    "![tree](images/tree.png)"
   ]
  },
  {
   "cell_type": "markdown",
   "metadata": {},
   "source": [
    "##### Hierarchy\n",
    "\n",
    "A tree graph can be extended to indicate relationship and correlation. We can represent ancesstor as parent node and descendant as child node. Further, we can extended it to represent sub-ancestor.\n",
    "\n",
    "![hg](images/hierarchy-graph.png)"
   ]
  },
  {
   "cell_type": "markdown",
   "metadata": {},
   "source": [
    "#### Node Degree\n",
    "\n",
    "Degree of a node is sum of edges connected with a node. In the case of directed graph, a node has two degree:\n",
    "\n",
    "* In-degree is number edges going into a node.\n",
    "* Out-degree is number of edges comming out of a node.\n",
    "\n",
    "The nature of node's degree can be very useful in social engineering. For example, we can find friends of friends relationship and reveal any person who has high social network. Such case has been implemented by linkedin to do lead generation."
   ]
  },
  {
   "cell_type": "markdown",
   "metadata": {},
   "source": [
    "#### Computational Thinking of Graph\n",
    "\n",
    "A graph can be represented as adjacency matrix or adjacency list. In the case of performance, we may choose one of representation in specific cases. For example, we may used adjacency matrix in the case of numerical problem, but we may prefer to used adjaceny list in the case of high dimensionality problem such as text searching.\n",
    "\n",
    "![aml](images/adjacency-matrix-list.jpg)"
   ]
  },
  {
   "cell_type": "markdown",
   "metadata": {},
   "source": [
    "### Embedding Plannar Graphs\n",
    "\n",
    "One way to draw graph on the plane is called graph embedding. An image below show two embedding technique: non-plannar which has crossing edges and plannar graph which does not has crossing edge.\n",
    "\n",
    "![](images/nonplannar-plannar-embedding.png)"
   ]
  },
  {
   "cell_type": "markdown",
   "metadata": {},
   "source": [
    "In the case of projection into two dimensional vector, if we used non-plannar embedding, then it is may difficult for observer to determine relationship between nodes. So, we need to find plannar graph such way to make clear relationship between nodes. Another advantages of using plannar embedding are it has compact form to represent high dimensionaility visualization, we can find max-cut on plannar graph to optimize graph coloring and shading, etc."
   ]
  },
  {
   "cell_type": "markdown",
   "metadata": {},
   "source": [
    "We can find planar graph automatically by using **Tutte's Method**:\n",
    "\n",
    "1. Input is a graph \\\\(G\\\\) consisting of nodes \\\\(\\{ 1, ..., N\\}\\\\) and edges \\\\((i,j)\\\\) such that \\\\(1 \\leq i < j \\leq N\\\\).\n",
    "2. Identify some of the nodes as *boundary nodes* (*faces*) and assign them 2-D positions.\n",
    "3. In the case of 3D space, we have nodes \\\\((1, 2, 3, 4, 5, 6, 7, 8)\\\\) and edges \\\\((1,2), (1,3), (2,4), (3,4), (1,5), (2,6), (3,7), (4,8), (5,6), (5,7), (6,8), \\ \\text{and} \\ (7,8)\\\\)\n",
    "4. Identify nodes 1, 2, 3, and 4 as bundary nodes, and assign them coordinates \\\\((0,0), (1,0), (0,1), \\ \\text{and} \\ (1,1)\\\\). Or in other word, we create an orthoghonal space."
   ]
  },
  {
   "cell_type": "markdown",
   "metadata": {},
   "source": [
    "A method above resulted in following image:\n",
    "\n",
    "![graph-embedding](images/graph-embedding.png)"
   ]
  },
  {
   "cell_type": "markdown",
   "metadata": {},
   "source": [
    "In the practice, we used Laplacian matrix to implementt Tutte's method:\n",
    "\n",
    "1. Represent graph in Laplacian matrix with each edge's weight calclated using formula \\\\(L_{ij} = 1/deg(i)\\\\)\n",
    "![laplacian matrix](images/laplacian-matrix.png) <br><br>\n",
    "2. Zero out the choosen boundary, in this case the boundary is nodes \\\\(1, 2, 3, 4\\\\).\n",
    "3. Then subtract it with identity matrix.\n",
    "![laplacian matrix 1](images/laplacian-matrix-1.png) <br><br>\n",
    "4. Solve orthogonality of the choosen boundary using linear programming:\n",
    "    * For *X* coordinate \\\\(Ax = b_x\\\\):\n",
    "    ![x coordinate](images/solve-x-coordinate.png)<br>\n",
    "    * For *Y* coordinate \\\\(Ay = b_y\\\\):\n",
    "    ![y coordinate](images/solve-y-coordinate.png)<br>\n",
    "<br>\n",
    "5. So then we have a planar graph by solving the linear system. As you can see, node 5 \\\\((x_5, y_5)\\\\) placed in average of node 1 \\\\((x_1, y_1)\\\\), 6 \\\\((x_6, y_6)\\\\), and 7 \\\\((x_7, y_7)\\\\):\n",
    "![solve-xy-linear-system](images/solve-xy-linear-system.png)"
   ]
  },
  {
   "cell_type": "markdown",
   "metadata": {},
   "source": [
    "## Graph Visualization\n",
    "\n",
    "After Tutte's method became popular to be used in drawing graph since 50 years ago, most people still searching best algorithm to drawing graph."
   ]
  },
  {
   "cell_type": "markdown",
   "metadata": {},
   "source": [
    "### Force Directed Layout\n",
    "\n",
    "Force directed layout is most famous graph drawing algorithm used in order to develop automatic graph layout. Force directed layout based on physical model of **attraction** and **repulsion**, so we can produce layout optimally.\n",
    "\n",
    "Force directed layout extended Tutte's barycentre method (which described in previous section) to describe force between two nodes. The barycentre between two nodes is the point at which the gravitational forces eerted by those two objects cancel each other out."
   ]
  },
  {
   "cell_type": "markdown",
   "metadata": {},
   "source": [
    "#### Spring-embedded force-directed layout\n",
    "\n",
    "Introduced by [Peter Eades](https://en.wikipedia.org/wiki/Peter_Eades) at 1984. His spring embedder is the basis for almost all force-directed techniques. Nodes are modelled as steel rings and edges as springs; the system is put into a random initial configuration and released, leaving the system to reach a stable state where the force on each node is zero.\n",
    "\n",
    "![simple spring embedder](images/spring-embedder.png)"
   ]
  },
  {
   "cell_type": "markdown",
   "metadata": {},
   "source": [
    "In the basic configuration, the force on each node is the sum of attractive, \\\\(f_a = c_1\\ log\\frac{d}{c_2}\\\\) and repulsive, \\\\(f_r = \\frac{c_3}{d^2}\\\\), forces on each node, where \\\\(d\\\\) is the length of the spring and \\\\(c_1, c_2, c_3\\\\) are constants. Eades used springs of logarithmic strength because linear strength springs were too strong. Connected nodes are attracted to one another whereas all other nodes, modelled as electrical charges, repel. The resulting layout should have edges of uniform length and symmetry as showed in an image above.\n",
    "\n",
    "Despite Eades's algorithm is popular, he stressed that his method's sutability onl for graphs with fewer than 50 nodes with underlying structures such as grid, trees and sparse graphs rather than those with dense structure."
   ]
  },
  {
   "cell_type": "markdown",
   "metadata": {},
   "source": [
    "At 1991, Fruchterman and Reingold introduced new spring-embedder algorithm which try to refine distance between two nodes. Same with Eades, it has three-step process: The attractive, \\\\(f_a = \\frac{d^2}{k}\\\\), then repulsive, \\\\(f_r = -\\frac{k^2}{d}\\\\), forces are calculated, followed by the 'temperature' governing the distance each node can mode during an iteration. \\\\(d\\\\) is the distance between the two nodes and \\\\(k = C \\sqrt{\\frac{area}{number-of-nodes}}\\\\) is the optimal distance between the two nodes where area is the space available and \\\\(C\\\\) is an experimentally determined constant.\n",
    "\n",
    "![Fruchterman algorithm](images/Fruchterman.png)"
   ]
  },
  {
   "cell_type": "markdown",
   "metadata": {},
   "source": [
    "Fruchterman and Reingold restricted these graphs to a maximum of 100 nodes."
   ]
  },
  {
   "cell_type": "markdown",
   "metadata": {},
   "source": [
    "Latest spring-electrical-based system is the [**graph-embedder (GEM)**](https://pdfs.semanticscholar.org/d006/1c4d795f17e51f17d4b5472125587f382f8b.pdf) algorithm which introduced by Ame Frick at 1994. GEM uses forces similar to those used by Fruchterman and Reingold, plus gravitational forces, which pull nodes towards the barycenter of their neighbours. Frick et al. implemented an adaptive schedule with local and global temperatures. The temperature is therefore adaptive to the state of the graph and differs from cooling schedules such as those simulated annealing. \n",
    "\n",
    "![GEM](images/graph-embedder.png)"
   ]
  },
  {
   "cell_type": "markdown",
   "metadata": {},
   "source": [
    "More information about graph drawing can be found at [a survey of two dimensional graph layout techniques for informaton visualization](http://leonidzhukov.net/hse/2015/socialnetworks/papers/gibson2013) and [force directed drawing graph](https://cs.brown.edu/~rt/gdhandbook/chapters/force-directed.pdf)"
   ]
  },
  {
   "cell_type": "markdown",
   "metadata": {},
   "source": [
    "### Centrality\n",
    "\n",
    "Centrality is an indicator used in graph theory which indicate the important of such node nodes. In the social network, centrality can be indicate person popularity or influences. In sociology, centrality can be indicate source of disease. There are three widely used computation to get centrality value:\n",
    "\n",
    "1. Simple centrality: Use node degree, so higher degree nodes better connected than low degree nodes. For example: PageRank algorithm.\n",
    "2. Isolation metric: Is total distance to all other nodes, such that *closeness centrality* = \\\\(\\frac{1}{isolation metric}\\\\) and *graph centrality* = \\\\(\\frac{1}{distance to the farthest node}\\\\).\n",
    "3. Betweenness centrality: Is portion of all shortest paths between any two nodes that pass through th given node. This metric can also compute the centrality of an edge.\n",
    "\n",
    "![centrality](images/centrality.png)"
   ]
  },
  {
   "cell_type": "markdown",
   "metadata": {},
   "source": [
    "### Graph Drawing Aesthetics\n",
    "\n",
    "Information visualization should be easil interpretable by readers. There are some techniques in orders to do this:\n",
    "\n",
    "* Simplification\n",
    "\n",
    "Removing lowest *Between Centrality* (BC) edges that do not disconnect graph result in a tree shaped \"backbone\". This technique can be applied to simplify force-directed layout, then can later add less significant edges back in.\n",
    "\n",
    "![simplification](images/simplification.png) <br><br>\n",
    "\n",
    "This technique can be also implemented to do **community discovery**, such that removing edges in order of decreasing BC form highest to lowest. At lowest level reveals community\n",
    "\n",
    "![images/community-discovery](images/community-discovery.png) <br><br>\n",
    "\n",
    "* Edge Bundles\n",
    "\n",
    "Aggregate “similar” edges into “wire bundles” to simplify presentation.\n",
    "\n",
    "![edge bundles](images/edge-bundles.png)"
   ]
  },
  {
   "cell_type": "markdown",
   "metadata": {},
   "source": [
    "## Tree Maps\n",
    "\n",
    "Tree map is great tool to represent hierarchy and area. An image below give an idea of how tree map can be used to represent hierarchy in the space.\n",
    "\n",
    "![tree-map-layout](images/tree-map-layout.png)"
   ]
  },
  {
   "cell_type": "markdown",
   "metadata": {},
   "source": [
    "## Principal Compenent Analysis and Multidimensional Scaling\n",
    "\n",
    "**Principal Compenent Analysis** (PCA) is a dimensionality reduction technique that transform correlated variables into uncorelated variables called as *principal components*. The goal of PCA is to reduce the average of all the distances of every feature to projection line, called as *projection error*. In the case of dimensionality reduction, we want to reduce from n-dimensions to k-dimensions by finding k vectors \\\\(u^{1}, u^{2}, ..., u^{k}\\\\) onto which to project the data so as to minimize the projection error. More explanation and implementation in Octave can be found at [here](https://github.com/Bladefidz/machine-learning/blob/master/coursera/machine-learning-standford-univerity/Unsupervised%20Learning/Principal%20Component%20Analysis.ipynb). One basic and easy explanation about PCA related to data exploration can be found at [here](http://setosa.io/ev/principal-component-analysis/).\n",
    "\n",
    "**Metric Multi Dimensional Scaling** is dimensionality reduction of data points from high dimensional space that tries to preserve distances. Basically, we can compute metric MDS as follows:\n",
    "\n",
    "1. Given distances \\\\(d_{ij}\\\\) between datapoints \\\\(i\\\\) and \\\\(j\\\\).\n",
    "2. Find postions \\\\((x_i, y_i)\\\\) that minimize:\n",
    "$$\\sum_{j=1..N-1}\\sum_{i=i+1..j}(||(x_i, y_i) - (x_j, y_j)|| - d_{ij})^2$$\n",
    "\n",
    "For example, given small dataset below:\n",
    "\n",
    "![dataset](images/mmds-1.png) <br>\n",
    "\n",
    "The preserved distances are:\n",
    "\n",
    "![preserved distances](images/preserved-distances.png)"
   ]
  },
  {
   "cell_type": "markdown",
   "metadata": {},
   "source": [
    "## Packing\n",
    "\n",
    "Packing is another technique which use space to represent information rather than points. For example: Word Cloud represent word freqency as size of text.\n",
    "\n",
    "![word-cloud](images/word-cloud.png)"
   ]
  },
  {
   "cell_type": "markdown",
   "metadata": {},
   "source": [
    "One caveat to use packing technique is area is not good to represent ordinal data because observer may hard to differentiate area of circle and area of rectangle if they have same length. So in this case, we need to be consistent in using shape. A good one packing technique which used area as measurement showed in an image below:\n",
    "\n",
    "![population](images/population.png)"
   ]
  },
  {
   "cell_type": "markdown",
   "metadata": {},
   "source": [
    "Or we can use color as measurement. This method called as **Choropleth**.\n",
    "\n",
    "![choropleth](images/choropleth.png)"
   ]
  },
  {
   "cell_type": "code",
   "execution_count": null,
   "metadata": {},
   "outputs": [],
   "source": []
  }
 ],
 "metadata": {
  "kernelspec": {
   "display_name": "Python 3",
   "language": "python",
   "name": "python3"
  },
  "language_info": {
   "codemirror_mode": {
    "name": "ipython",
    "version": 3
   },
   "file_extension": ".py",
   "mimetype": "text/x-python",
   "name": "python",
   "nbconvert_exporter": "python",
   "pygments_lexer": "ipython3",
   "version": "3.6.5"
  }
 },
 "nbformat": 4,
 "nbformat_minor": 2
}
