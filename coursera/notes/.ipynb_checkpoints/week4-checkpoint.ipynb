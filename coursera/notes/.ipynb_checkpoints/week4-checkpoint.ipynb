{
 "cells": [
  {
   "cell_type": "markdown",
   "metadata": {},
   "source": [
    "## Visualization Systems and Database Visualization"
   ]
  },
  {
   "cell_type": "markdown",
   "metadata": {},
   "source": [
    "### Visualization System\n",
    "\n",
    "* **Information Visualization**: Plotting data often using different coordinates than what is provided.\n",
    "* **Large Data Visualization**: How to interactively manage visually overwhelming amounts of data.\n",
    "* **Visual Analytics**: Connecting the process of data visualization with the process of decision making.\n",
    "* **Dashboard**: How to organize the visual display of information to provide only the necessary details."
   ]
  },
  {
   "cell_type": "markdown",
   "metadata": {},
   "source": [
    "### The Information Visualization Mantra\n",
    "\n",
    "**Schneiderman's Mantra** is good one rule of thumb to create informative visualization. There are three points:\n",
    "\n",
    "1. **Overview Fisrt**: In the most cases of big data visualization, it is good idea to provide overview to the audiences. We can provide such shape of the data or patterns that esily catches by boarder audience.\n",
    "![overview](images/overview.png)<br>\n",
    "2. **Zoom and Filter**: After look the overview, some audiences may interested in different detail. Provide zoom and filter feature may very useful for audience in order to exploration for specific goal. There is a problem when we zooming into specific area, sometime we just lost out of context. To prevent it, we may used extra features that provide **focus+context**. Tools such as zoom lens and fish eye lens may be very helpful. A very good demo of fish eye lens can be fount [here](https://bost.ocks.org/mike/fisheye/).\n",
    "3. **Detail on Demand**: May very helpful to provide audience supllement and annotation when user need it."
   ]
  },
  {
   "cell_type": "markdown",
   "metadata": {},
   "source": [
    "#### Database Visualization\n",
    "\n",
    "**OLAP** (OnLine Analytical Processing) is a method to summarize data from database for analytical need. This method should produce information as fast as possible and the result should can be accessed in anytime. Information generated from OLAP may be called as report. For example, bank transaction report, corporate accounting report, user activity report, etc.\n",
    "\n",
    "**Data Cube** is a concept which widely used in OLAP in order to represent summarization in compact form. Consider a document from sales database below:\n",
    "\n",
    "```\n",
    "Database: sales database\n",
    "Document Headers: <date, product, location, amount>\n",
    "Document values: [(8/15, coffe, Seattle, $4), (8/8/15, tea, Beijing, $3), (8/5/15, espresso, Rome, $5)]\n",
    "```\n",
    "\n",
    "A document a above has *three dimensions* (date, product, location) defined by document keys that have ordinal values and a *measure* (amount) defined by discrete values."
   ]
  },
  {
   "cell_type": "markdown",
   "metadata": {},
   "source": [
    "**Data Aggregation** is exhaustive method to generate summarization from database or multiple databases. In this case *measure* variable used as *pivot key*. By using pivot key, we can reduce dimension of information. For example, from (date, product, location), we can reduce a summarization of each two dimensions data: (date, product), (date, location), (product, location) that depend on value in *amount*."
   ]
  },
  {
   "cell_type": "markdown",
   "metadata": {},
   "source": [
    "**Infoviz** (Information Visualization) is higher level operation which execute OLAP operation in lower level. This concept may be useful in communication between manager and database administrator, software developer and database API, or user and Infoviz software.\n",
    "\n",
    "Below some important Infoviz and OLAP operations in data cube:\n",
    "\n",
    "    Cube operation: Slicing\n",
    "    Infoviz operation: Filter Value\n",
    "    Description: Reduce dimensionality by selecting a single attribute value along one of the dimensions.\n",
    "![slicing](images/slicing.png)\n",
    "\n",
    "    Cube operation: Dicing\n",
    "    Infoviz operation: Filter range, zoom plot area\n",
    "    Description: Focus on a subcube spanning a range of values across one or more dimensions of the cube.\n",
    "![dicing](images/dicing.png)\n",
    "\n",
    "    Cube operation: Roll-Up\n",
    "    Infoviz operation: Aggregation\n",
    "    Description: Reduce dimensionality by projecting cube along one of its axes using a summary op\n",
    "    \n",
    "    Cube operation: Drill Down\n",
    "    Infoviz operation: Zoom fields, details on demand, dissaggregation\n",
    "    Description: Increases dimensionality by expanding summaries into values, or subdivides dimensions into finer details.\n",
    "![drill down](images/drill-down.png)\n",
    "\n",
    "    Cube operation: Pivot\n",
    "    Infoviz operation: Field selection\n",
    "    Description: Rotates cube to display a different face comparing different dimensions.\n",
    "![pivot](images/pivot.png)"
   ]
  },
  {
   "cell_type": "markdown",
   "metadata": {},
   "source": [
    "### Organizing Axes\n",
    "\n",
    "It is may be very useful to reduce high dimensional data into prejection in two dimensional space such way to revel relationship between keys. There are some projection operation that widely used:\n",
    "\n",
    "1. **Concatenation** is projection of two or more axes into compact from such as cross table. An image below show concatenation of Quarter+Product:\n",
    "![concatenation](images/concatenation1.png)<br>\n",
    "2. **Product** is projection of two axes in cartesian coordinate which generate combination of data. This projection produce compact data shape in one dimensional space. An image below show product of Quarter+Product:\n",
    "![product](images/product.png)<br>\n",
    "3. **Nesting** is projection similar to *product projection* but remove unnecessary combination. This projection will be useful to make sense some data projection that may not sense in product projection. An image below show nesting of Quarter+Product:\n",
    "![nesting](images/nesting.png)<br>\n",
    "An image below show nesting of Quarter+Month which may be not make sense in product and concatenation projection:\n",
    "![nesting1](images/nesting1.png)"
   ]
  },
  {
   "cell_type": "markdown",
   "metadata": {},
   "source": [
    "## Visualization System Design"
   ]
  },
  {
   "cell_type": "markdown",
   "metadata": {},
   "source": [
    "### User Interface\n",
    "\n",
    "User Interfaces (UIs) is data visualization systems that used Graphical User Interfaces (GUI) to provides users intuitive capabilities in order to access and manipulate data."
   ]
  },
  {
   "cell_type": "markdown",
   "metadata": {},
   "source": [
    "There are three importants aspect in order to design a user interface.\n",
    "\n",
    "### System Design\n",
    "\n",
    "System design is core aspect which cost lot of investment. There are seven steps in order to design system with user interface that may executed in parallel or sequential:\n",
    "\n",
    "1. **Requirements Specification** is initial step in which we create formulation to guide system design. It may need to conduct some research in order to figuring out any problems and user needs. Some questions that may be useful to answer are:\n",
    "    * What specific problems will the system solve?\n",
    "    * Who will the system serve?\n",
    "    * How will a user use the system to make a decision?\n",
    "2. **Architectural Design** is step in which we decompose the problem and the system into components, e.g. elements of a dashboard. Arhciteture in this term means high level abstraction rather than technical abstraction. In this step we may do brainstroming with sub devision, e.g. UI/UX dev, in order to decide best architecture.\n",
    "3. **Compenent Design** is step in which we planned how to execute arhitectural design technically. We may need to discuss with engineer team to decide apprpriate tool, possible visualization and interactions mechanism for each component.\n",
    "4. **Implementation** is step in which we actually implemented component design, such as coding or setup.\n",
    "5. **Component Testing** is step in which we do debugging.\n",
    "6. **User Evaluation** is step in which we do user testing to get feedback from real user and fnd any part need to be fixed. But, depend only on user's feedbak is not enough since there are will be some biases. So, consider to implement scientific method while collect data from user testing method, practical statistical method such as A/B testing is one widely used approach.\n",
    "7. **Maintenance** is step in which we do fixes based on user evaluation result and documentation."
   ]
  },
  {
   "cell_type": "markdown",
   "metadata": {},
   "source": [
    "Most of people tend to uderestimate all the step above and only focusing on the implementation. It may caused by limited resources. If it is the case, the it is good idea to implement approriate methodology with resource constrain, such as *lean methodology*. For example, we may used prototype to simulate how a system might work with a user. A prototype may not to be complete system, it may a system which has many bugs. By let users try to use prototype, we may get fast feedback from users and capable to figuring out in which user interested.\n",
    "\n",
    "Another good approach to boost system design is by use models of the user, task and dialog to ensure the design will work with the user. Creating a model is advance technique and we may need expertise to do that, e.g. dev ops."
   ]
  },
  {
   "cell_type": "markdown",
   "metadata": {},
   "source": [
    "### User Modeling\n",
    "\n",
    "This is advance method which aimed to deduce user behavior. This method extensively implemented by commercial products that tend to use user-driven development approach rather than technical-driven. In order to create user model, we need proper data abou user which includes: familiarity, role, knowledge, and motivation. One good technique to collect user data called as **GOMS** described below:\n",
    "\n",
    "* **Goal** is what the user will hope to achieve, e.g. an informed decision.\n",
    "* **Operators** is basic user action or thought process steps.\n",
    "* **Methods** is sequence of operators used to achieve goal.\n",
    "* **Selections** is about how the user decides to use one method over another."
   ]
  },
  {
   "cell_type": "markdown",
   "metadata": {},
   "source": [
    "### Task Analysis\n",
    "\n",
    "* There is a concept called as **synthesizability** which try to connect system tasks to user goals.\n",
    "* If we have complex tasks, the it is good idea to decompose tasks hierarchically into subtasks.\n",
    "* Create plans out of task sequences.\n",
    "* Examine triggers for conditonal tasks.\n",
    "* Also consider waiting, cycle and multitasking.\n",
    "* Use results for dashboard layot, organization of screens."
   ]
  },
  {
   "cell_type": "code",
   "execution_count": null,
   "metadata": {},
   "outputs": [],
   "source": []
  }
 ],
 "metadata": {
  "kernelspec": {
   "display_name": "Python 3",
   "language": "python",
   "name": "python3"
  },
  "language_info": {
   "codemirror_mode": {
    "name": "ipython",
    "version": 3
   },
   "file_extension": ".py",
   "mimetype": "text/x-python",
   "name": "python",
   "nbconvert_exporter": "python",
   "pygments_lexer": "ipython3",
   "version": "3.6.5"
  }
 },
 "nbformat": 4,
 "nbformat_minor": 2
}
